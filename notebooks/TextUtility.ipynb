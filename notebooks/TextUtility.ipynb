{
 "cells": [
  {
   "cell_type": "markdown",
   "metadata": {},
   "source": [
    "# Text Utility\n",
    "\n",
    "This file is only used to calculate the lengths of the text to evaluate if the SEC Scraper is properly cleaning and extracting the text. However, you may expand it to include other utilities for this project."
   ]
  },
  {
   "cell_type": "code",
   "execution_count": null,
   "metadata": {},
   "outputs": [
    {
     "name": "stdout",
     "output_type": "stream",
     "text": [
      "ED\n",
      "Average number of words in 'Risk Factors Text': 1838.37\n",
      "Average number of characters in 'Risk Factors Text': 12770.74\n",
      "\n",
      "ETR\n",
      "Average number of words in 'Risk Factors Text': 14442.64\n",
      "Average number of characters in 'Risk Factors Text': 100502.00\n",
      "\n",
      "XOM\n",
      "Average number of words in 'Risk Factors Text': 2469.18\n",
      "Average number of characters in 'Risk Factors Text': 17268.35\n",
      "\n",
      "OSG\n",
      "Average number of words in 'Risk Factors Text': 9056.59\n",
      "Average number of characters in 'Risk Factors Text': 60536.29\n",
      "\n",
      "PCG\n",
      "Average number of words in 'Risk Factors Text': 6832.58\n",
      "Average number of characters in 'Risk Factors Text': 46822.79\n",
      "\n",
      "PXD\n",
      "Average number of words in 'Risk Factors Text': 11369.06\n",
      "Average number of characters in 'Risk Factors Text': 76311.75\n",
      "\n",
      "An error occurred: [Errno 2] No such file or directory: './ETR_Truncated.csv'\n"
     ]
    }
   ],
   "source": [
    "import pandas as pd\n",
    "\n",
    "def calculate_average_lengths(csv_file_path):\n",
    "    try:\n",
    "        # Load the CSV file\n",
    "        data = pd.read_csv(csv_file_path)\n",
    "        \n",
    "        # Ensure the 'Risk Factors Text' column exists\n",
    "        if 'Risk Factors Text' not in data.columns:\n",
    "            print(\"The column 'Risk Factors Text' does not exist in the CSV file.\")\n",
    "            return\n",
    "        \n",
    "        # Drop rows where 'Risk Factors Text' is NaN\n",
    "        valid_data = data['Risk Factors Text'].dropna()\n",
    "        \n",
    "        # Calculate the average number of words and characters\n",
    "        average_words = valid_data.apply(lambda x: len(x.split())).mean()\n",
    "        average_characters = valid_data.apply(len).mean()\n",
    "        \n",
    "        # Print the results\n",
    "        print(f\"Average number of words in 'Risk Factors Text': {average_words:.2f}\")\n",
    "        print(f\"Average number of characters in 'Risk Factors Text': {average_characters:.2f}\")\n",
    "        print()\n",
    "\n",
    "    except Exception as e:\n",
    "        print(f\"An error occurred: {e}\")\n",
    "\n",
    "\n",
    "for company in [\"ED\", \"ETR\", \"XOM\", \"OSG\", \"PCG\", \"PXD\"]:\n",
    "    print(company)\n",
    "    calculate_average_lengths(f'./Capstone-API/companies/{company}.csv')\n",
    "\n",
    "calculate_average_lengths(f'./ETR_Truncated.csv')"
   ]
  }
 ],
 "metadata": {
  "kernelspec": {
   "display_name": "ML",
   "language": "python",
   "name": "python3"
  },
  "language_info": {
   "codemirror_mode": {
    "name": "ipython",
    "version": 3
   },
   "file_extension": ".py",
   "mimetype": "text/x-python",
   "name": "python",
   "nbconvert_exporter": "python",
   "pygments_lexer": "ipython3",
   "version": "3.9.18"
  }
 },
 "nbformat": 4,
 "nbformat_minor": 2
}
