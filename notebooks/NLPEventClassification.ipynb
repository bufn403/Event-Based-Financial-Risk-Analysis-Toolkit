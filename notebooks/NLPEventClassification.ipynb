{
 "cells": [
  {
   "cell_type": "code",
   "execution_count": null,
   "metadata": {},
   "outputs": [],
   "source": [
    "import pandas as pd\n",
    "\n",
    "\n",
    "file_path = 'events.csv'\n",
    "data = pd.read_csv(file_path)\n",
    "\n",
    "data.head()"
   ]
  },
  {
   "cell_type": "code",
   "execution_count": null,
   "metadata": {},
   "outputs": [],
   "source": [
    "import ast\n",
    "\n",
    "def convert_string_to_list(string_list):\n",
    "    try:\n",
    "        return ast.literal_eval(string_list)\n",
    "    except Exception:\n",
    "        return []\n",
    "\n",
    "data['Response'] = data['Response'].apply(convert_string_to_list)\n",
    "\n",
    "data.head()\n"
   ]
  },
  {
   "cell_type": "code",
   "execution_count": null,
   "metadata": {},
   "outputs": [],
   "source": [
    "from sentence_transformers import SentenceTransformer, util\n",
    "import numpy as np\n",
    "\n",
    "\n",
    "model = SentenceTransformer('all-MiniLM-L6-v2')\n",
    "\n",
    "topics = [\"General\", \"Weather\", \"Political\", \"Economy\", \"Energy\", \"Business\"]\n",
    "topic_embeddings = model.encode(topics, convert_to_tensor=True)\n",
    "\n",
    "def find_closest_topics(headlines):\n",
    "    headline_embeddings = model.encode(headlines, convert_to_tensor=True)\n",
    "    \n",
    "    # Compute cosine similarities\n",
    "    similarities = util.pytorch_cos_sim(headline_embeddings, topic_embeddings)\n",
    "    \n",
    "    # Find the index of the maximum similarity score for each headline\n",
    "    closest_topics = [topics[sim.argmax()] for sim in similarities]\n",
    "    return closest_topics\n",
    "\n",
    "data['Event Type NLP'] = data['Response'].apply(find_closest_topics)\n",
    "\n",
    "# Check the results\n",
    "print(data[['Response', 'Event Type NLP']].head())\n"
   ]
  },
  {
   "cell_type": "code",
   "execution_count": null,
   "metadata": {},
   "outputs": [],
   "source": [
    "data.to_csv(\"Classified_Events.csv\")"
   ]
  }
 ],
 "metadata": {
  "language_info": {
   "name": "python"
  }
 },
 "nbformat": 4,
 "nbformat_minor": 2
}
