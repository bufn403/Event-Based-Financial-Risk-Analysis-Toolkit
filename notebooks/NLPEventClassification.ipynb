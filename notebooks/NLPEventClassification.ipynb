{
 "cells": [
  {
   "cell_type": "markdown",
   "metadata": {},
   "source": [
    "# Event Classification using NLP\n",
    "\n",
    "This notebook classifies events based on their descriptions using a pre-trained SentenceTransformer model. The process involves loading the data, preprocessing it, encoding the descriptions, and finding the closest topics."
   ]
  },
  {
   "cell_type": "code",
   "execution_count": null,
   "metadata": {},
   "outputs": [],
   "source": [
    "# Import the necessary libraries\n",
    "from sentence_transformers import SentenceTransformer, util\n",
    "import numpy as np\n",
    "import pandas as pd\n",
    "import ast"
   ]
  },
  {
   "cell_type": "markdown",
   "metadata": {},
   "source": [
    "## Step 1: Load Data\n",
    "\n",
    "First, we load the event data from a CSV file."
   ]
  },
  {
   "cell_type": "code",
   "execution_count": null,
   "metadata": {},
   "outputs": [],
   "source": [
    "file_path = 'events.csv'\n",
    "data = pd.read_csv(file_path)\n",
    "\n",
    "data.head()"
   ]
  },
  {
   "cell_type": "markdown",
   "metadata": {},
   "source": [
    "##  Step 2: Preprocess Data\n",
    "\n",
    "We need to convert the string representations of lists in the 'Response' column to actual Python lists. This is done using the ast.literal_eval function."
   ]
  },
  {
   "cell_type": "code",
   "execution_count": null,
   "metadata": {},
   "outputs": [],
   "source": [
    "import ast\n",
    "\n",
    "def convert_string_to_list(string_list):\n",
    "    \"\"\"\n",
    "    Convert a string representation of a list to an actual list.\n",
    "    \n",
    "    Parameters:\n",
    "    string_list (str): The string representation of the list.\n",
    "    \n",
    "    Returns:\n",
    "    list: The actual list if conversion is successful, otherwise an empty list.\n",
    "    \"\"\"\n",
    "    try:\n",
    "        return ast.literal_eval(string_list)\n",
    "    except Exception:\n",
    "        return []\n",
    "\n",
    "# Apply the conversion function to the 'Response' column\n",
    "data['Response'] = data['Response'].apply(convert_string_to_list)\n",
    "\n",
    "# Display the first few rows of the data to check the conversion\n",
    "data.head()\n"
   ]
  },
  {
   "cell_type": "markdown",
   "metadata": {},
   "source": [
    "## Step 3: Encode and Classify Descriptions\n",
    "\n",
    "Using a pre-trained SentenceTransformer model, we encode the descriptions and classify them into predefined topics."
   ]
  },
  {
   "cell_type": "code",
   "execution_count": null,
   "metadata": {},
   "outputs": [],
   "source": [
    "# Load a pre-trained SentenceTransformer model\n",
    "model = SentenceTransformer('all-MiniLM-L6-v2')\n",
    "\n",
    "# Define a list of topics\n",
    "topics = [\"General\", \"Weather\", \"Political\", \"Economy\", \"Energy\", \"Business\"]\n",
    "topic_embeddings = model.encode(topics, convert_to_tensor=True)\n",
    "\n",
    "def find_closest_topics(headlines):\n",
    "    \"\"\"\n",
    "    Find the closest topics for a list of headlines using cosine similarity.\n",
    "    \n",
    "    Parameters:\n",
    "    headlines (list): A list of headlines.\n",
    "    \n",
    "    Returns:\n",
    "    list: A list of the closest topics for each headline.\n",
    "    \"\"\"\n",
    "    # Encode the headlines\n",
    "    headline_embeddings = model.encode(headlines, convert_to_tensor=True)\n",
    "    \n",
    "    # Compute cosine similarities between headline embeddings and topic embeddings\n",
    "    similarities = util.pytorch_cos_sim(headline_embeddings, topic_embeddings)\n",
    "    \n",
    "    # Find the index of the maximum similarity score for each headline\n",
    "    closest_topics = [topics[sim.argmax()] for sim in similarities]\n",
    "    return closest_topics\n",
    "\n",
    "# Apply the classification function to the 'Response' column\n",
    "data['Event Type NLP'] = data['Response'].apply(find_closest_topics)\n",
    "\n",
    "# Check the results\n",
    "print(data[['Response', 'Event Type NLP']].head())\n"
   ]
  },
  {
   "cell_type": "markdown",
   "metadata": {},
   "source": [
    "## Step 4: Save Classified Data\n",
    "Finally, we save the classified data to a new CSV file."
   ]
  },
  {
   "cell_type": "code",
   "execution_count": null,
   "metadata": {},
   "outputs": [],
   "source": [
    "data.to_csv(\"Labeled_Events.csv\")"
   ]
  }
 ],
 "metadata": {
  "language_info": {
   "name": "python"
  }
 },
 "nbformat": 4,
 "nbformat_minor": 2
}
